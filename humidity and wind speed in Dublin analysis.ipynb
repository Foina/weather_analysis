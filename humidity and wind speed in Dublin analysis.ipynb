{
 "cells": [
  {
   "cell_type": "markdown",
   "metadata": {},
   "source": [
    "#  humidity and wind speed in Dublin analysis"
   ]
  },
  {
   "cell_type": "code",
   "execution_count": 1,
   "metadata": {},
   "outputs": [],
   "source": [
    "import urllib.request\n",
    "import json\n",
    "import pandas as pd\n",
    "import time\n",
    "import csv\n",
    "from datetime import datetime, timedelta\n",
    "import matplotlib\n",
    "import matplotlib.pyplot as plt\n",
    "%matplotlib inline"
   ]
  },
  {
   "cell_type": "markdown",
   "metadata": {},
   "source": [
    "### Task 1: Identify one or more suitable web APIs"
   ]
  },
  {
   "cell_type": "markdown",
   "metadata": {},
   "source": [
    "darksky: https://api.darksky.net/forecast/[key]/[latitude],[longitude],[time]\n",
    "https://api.darksky.net/forecast/ab7bca6d83bb937f0a2f4864baea2669/53.3498,-6.2603,1551052800?exclude=currently,flags\n",
    "apiKey:"
   ]
  },
  {
   "cell_type": "code",
   "execution_count": 2,
   "metadata": {},
   "outputs": [],
   "source": [
    "api_key = \"\""
   ]
  },
  {
   "cell_type": "markdown",
   "metadata": {},
   "source": [
    "### Task 2: Collect data your chosen API(s)"
   ]
  },
  {
   "cell_type": "code",
   "execution_count": 3,
   "metadata": {},
   "outputs": [],
   "source": [
    "#create a file with set headings\n",
    "def create_file (file_loc, headings): \n",
    "    with open(file_loc, \"w\",newline='') as write_file:\n",
    "        f = csv.writer(write_file)\n",
    "        f.writerow(headings)\n",
    "        write_file.close()\n",
    "        \n",
    "def get_data(file_name, api_key, lat, lon, stamp_time):\n",
    "    try:\n",
    "        link = \"https://api.darksky.net/forecast/\" + api_key + '/' + lat + ',' + lon + ',' + str(stamp_time) + '?exclude=currently,flags'\n",
    "        response = urllib.request.urlopen(link)\n",
    "        jsonData = response.read().decode(\"utf-8\")\n",
    "        data = json.loads(jsonData)\n",
    "        df = pd.DataFrame(data['hourly']['data'])\n",
    "        #based on the api, some data has no precipType\n",
    "        if('precipType' not in df.columns.values.tolist()):\n",
    "            df['precipType'] = ''\n",
    "        # I found that the order of the data is not uniform, so I set the order of heading \n",
    "        df = df[['time','precipIntensity','precipProbability','temperature','apparentTemperature',\n",
    "            'dewPoint','humidity','pressure','windSpeed','windGust','windBearing','cloudCover','uvIndex',\n",
    "            'visibility','ozone','precipType']]\n",
    "        \n",
    "        df.to_csv(file_name, mode='a',index=False, header=False)\n",
    "    except:\n",
    "        print(\"Failed to retrieve %s\" % link)"
   ]
  },
  {
   "cell_type": "markdown",
   "metadata": {},
   "source": [
    "### Task 3: Parse the collected data, and store it in an appropriate file format"
   ]
  },
  {
   "cell_type": "code",
   "execution_count": 4,
   "metadata": {},
   "outputs": [
    {
     "name": "stdout",
     "output_type": "stream",
     "text": [
      "Data Collection Completed\n"
     ]
    }
   ],
   "source": [
    "#dublin latitude longitude\n",
    "lat = '53.3498'\n",
    "lon = '-6.2603'\n",
    "file_name = \"weather.csv\"\n",
    "headings = ['time','precipIntensity','precipProbability','temperature','apparentTemperature',\n",
    "            'dewPoint','humidity','pressure','windSpeed','windGust','windBearing','cloudCover','uvIndex',\n",
    "            'visibility','ozone','precipType']\n",
    "create_file(file_name,headings)\n",
    "start_time = datetime.strptime('2019-01-01 00:00:00', \"%Y-%m-%d %H:%M:%S\")\n",
    "end_time = datetime.strptime('2019-12-31 00:00:00', \"%Y-%m-%d %H:%M:%S\")\n",
    "time_list = []\n",
    "while start_time <= end_time:\n",
    "    date_str = start_time.strftime(\"%Y-%m-%d %H:%M:%S\")\n",
    "    ts = time.strptime(date_str, \"%Y-%m-%d %H:%M:%S\")\n",
    "    stamp_time = int(time.mktime(ts))\n",
    "    get_data(file_name, api_key, lat, lon, stamp_time)\n",
    "    time_list.append(stamp_time)\n",
    "    start_time += timedelta(days=1)\n",
    "    \n",
    "print(\"Data Collection Completed\")"
   ]
  },
  {
   "cell_type": "markdown",
   "metadata": {},
   "source": [
    "### Task 4: Load and represent the data using an appropriate data structure. Apply any pre-processing steps to clean/filter/combine the data"
   ]
  },
  {
   "cell_type": "code",
   "execution_count": 5,
   "metadata": {},
   "outputs": [],
   "source": [
    "file_name = \"weather.csv\"\n",
    "df = pd.read_csv(file_name)"
   ]
  },
  {
   "cell_type": "code",
   "execution_count": 6,
   "metadata": {},
   "outputs": [
    {
     "data": {
      "text/html": [
       "<div>\n",
       "<style scoped>\n",
       "    .dataframe tbody tr th:only-of-type {\n",
       "        vertical-align: middle;\n",
       "    }\n",
       "\n",
       "    .dataframe tbody tr th {\n",
       "        vertical-align: top;\n",
       "    }\n",
       "\n",
       "    .dataframe thead th {\n",
       "        text-align: right;\n",
       "    }\n",
       "</style>\n",
       "<table border=\"1\" class=\"dataframe\">\n",
       "  <thead>\n",
       "    <tr style=\"text-align: right;\">\n",
       "      <th></th>\n",
       "      <th>time</th>\n",
       "      <th>precipIntensity</th>\n",
       "      <th>precipProbability</th>\n",
       "      <th>temperature</th>\n",
       "      <th>apparentTemperature</th>\n",
       "      <th>dewPoint</th>\n",
       "      <th>humidity</th>\n",
       "      <th>pressure</th>\n",
       "      <th>windSpeed</th>\n",
       "      <th>windGust</th>\n",
       "      <th>windBearing</th>\n",
       "      <th>cloudCover</th>\n",
       "      <th>uvIndex</th>\n",
       "      <th>visibility</th>\n",
       "      <th>ozone</th>\n",
       "      <th>precipType</th>\n",
       "    </tr>\n",
       "  </thead>\n",
       "  <tbody>\n",
       "    <tr>\n",
       "      <td>0</td>\n",
       "      <td>1546300800</td>\n",
       "      <td>0.0000</td>\n",
       "      <td>0.00</td>\n",
       "      <td>47.54</td>\n",
       "      <td>42.07</td>\n",
       "      <td>40.47</td>\n",
       "      <td>0.76</td>\n",
       "      <td>1035.3</td>\n",
       "      <td>12.85</td>\n",
       "      <td>25.07</td>\n",
       "      <td>265</td>\n",
       "      <td>0.51</td>\n",
       "      <td>0</td>\n",
       "      <td>10.0</td>\n",
       "      <td>273.7</td>\n",
       "      <td>NaN</td>\n",
       "    </tr>\n",
       "    <tr>\n",
       "      <td>1</td>\n",
       "      <td>1546304400</td>\n",
       "      <td>0.0000</td>\n",
       "      <td>0.00</td>\n",
       "      <td>46.97</td>\n",
       "      <td>41.41</td>\n",
       "      <td>40.56</td>\n",
       "      <td>0.78</td>\n",
       "      <td>1035.0</td>\n",
       "      <td>12.65</td>\n",
       "      <td>24.81</td>\n",
       "      <td>186</td>\n",
       "      <td>0.50</td>\n",
       "      <td>0</td>\n",
       "      <td>10.0</td>\n",
       "      <td>274.8</td>\n",
       "      <td>NaN</td>\n",
       "    </tr>\n",
       "    <tr>\n",
       "      <td>2</td>\n",
       "      <td>1546308000</td>\n",
       "      <td>0.0002</td>\n",
       "      <td>0.02</td>\n",
       "      <td>46.30</td>\n",
       "      <td>40.68</td>\n",
       "      <td>40.78</td>\n",
       "      <td>0.81</td>\n",
       "      <td>1034.5</td>\n",
       "      <td>12.26</td>\n",
       "      <td>24.30</td>\n",
       "      <td>345</td>\n",
       "      <td>0.50</td>\n",
       "      <td>0</td>\n",
       "      <td>10.0</td>\n",
       "      <td>276.3</td>\n",
       "      <td>rain</td>\n",
       "    </tr>\n",
       "    <tr>\n",
       "      <td>3</td>\n",
       "      <td>1546311600</td>\n",
       "      <td>0.0003</td>\n",
       "      <td>0.02</td>\n",
       "      <td>46.22</td>\n",
       "      <td>40.88</td>\n",
       "      <td>41.09</td>\n",
       "      <td>0.82</td>\n",
       "      <td>1035.0</td>\n",
       "      <td>11.34</td>\n",
       "      <td>23.43</td>\n",
       "      <td>272</td>\n",
       "      <td>0.52</td>\n",
       "      <td>0</td>\n",
       "      <td>10.0</td>\n",
       "      <td>277.6</td>\n",
       "      <td>rain</td>\n",
       "    </tr>\n",
       "    <tr>\n",
       "      <td>4</td>\n",
       "      <td>1546315200</td>\n",
       "      <td>0.0002</td>\n",
       "      <td>0.02</td>\n",
       "      <td>45.80</td>\n",
       "      <td>40.39</td>\n",
       "      <td>40.98</td>\n",
       "      <td>0.83</td>\n",
       "      <td>1035.3</td>\n",
       "      <td>11.23</td>\n",
       "      <td>22.10</td>\n",
       "      <td>259</td>\n",
       "      <td>0.51</td>\n",
       "      <td>0</td>\n",
       "      <td>10.0</td>\n",
       "      <td>278.5</td>\n",
       "      <td>rain</td>\n",
       "    </tr>\n",
       "    <tr>\n",
       "      <td>...</td>\n",
       "      <td>...</td>\n",
       "      <td>...</td>\n",
       "      <td>...</td>\n",
       "      <td>...</td>\n",
       "      <td>...</td>\n",
       "      <td>...</td>\n",
       "      <td>...</td>\n",
       "      <td>...</td>\n",
       "      <td>...</td>\n",
       "      <td>...</td>\n",
       "      <td>...</td>\n",
       "      <td>...</td>\n",
       "      <td>...</td>\n",
       "      <td>...</td>\n",
       "      <td>...</td>\n",
       "      <td>...</td>\n",
       "    </tr>\n",
       "    <tr>\n",
       "      <td>8755</td>\n",
       "      <td>1577818800</td>\n",
       "      <td>0.0000</td>\n",
       "      <td>0.00</td>\n",
       "      <td>46.49</td>\n",
       "      <td>43.05</td>\n",
       "      <td>38.50</td>\n",
       "      <td>0.74</td>\n",
       "      <td>1030.4</td>\n",
       "      <td>6.82</td>\n",
       "      <td>9.39</td>\n",
       "      <td>142</td>\n",
       "      <td>0.69</td>\n",
       "      <td>0</td>\n",
       "      <td>10.0</td>\n",
       "      <td>280.5</td>\n",
       "      <td>NaN</td>\n",
       "    </tr>\n",
       "    <tr>\n",
       "      <td>8756</td>\n",
       "      <td>1577822400</td>\n",
       "      <td>0.0000</td>\n",
       "      <td>0.00</td>\n",
       "      <td>46.33</td>\n",
       "      <td>42.67</td>\n",
       "      <td>38.40</td>\n",
       "      <td>0.74</td>\n",
       "      <td>1030.1</td>\n",
       "      <td>7.21</td>\n",
       "      <td>10.20</td>\n",
       "      <td>142</td>\n",
       "      <td>0.75</td>\n",
       "      <td>0</td>\n",
       "      <td>10.0</td>\n",
       "      <td>279.6</td>\n",
       "      <td>NaN</td>\n",
       "    </tr>\n",
       "    <tr>\n",
       "      <td>8757</td>\n",
       "      <td>1577826000</td>\n",
       "      <td>0.0000</td>\n",
       "      <td>0.00</td>\n",
       "      <td>46.20</td>\n",
       "      <td>42.42</td>\n",
       "      <td>38.69</td>\n",
       "      <td>0.75</td>\n",
       "      <td>1030.2</td>\n",
       "      <td>7.40</td>\n",
       "      <td>10.47</td>\n",
       "      <td>145</td>\n",
       "      <td>0.78</td>\n",
       "      <td>0</td>\n",
       "      <td>10.0</td>\n",
       "      <td>278.8</td>\n",
       "      <td>NaN</td>\n",
       "    </tr>\n",
       "    <tr>\n",
       "      <td>8758</td>\n",
       "      <td>1577829600</td>\n",
       "      <td>0.0000</td>\n",
       "      <td>0.00</td>\n",
       "      <td>45.86</td>\n",
       "      <td>42.18</td>\n",
       "      <td>38.70</td>\n",
       "      <td>0.76</td>\n",
       "      <td>1030.4</td>\n",
       "      <td>7.04</td>\n",
       "      <td>9.71</td>\n",
       "      <td>159</td>\n",
       "      <td>0.78</td>\n",
       "      <td>0</td>\n",
       "      <td>10.0</td>\n",
       "      <td>277.6</td>\n",
       "      <td>NaN</td>\n",
       "    </tr>\n",
       "    <tr>\n",
       "      <td>8759</td>\n",
       "      <td>1577833200</td>\n",
       "      <td>0.0000</td>\n",
       "      <td>0.00</td>\n",
       "      <td>45.44</td>\n",
       "      <td>41.94</td>\n",
       "      <td>38.52</td>\n",
       "      <td>0.77</td>\n",
       "      <td>1030.2</td>\n",
       "      <td>6.54</td>\n",
       "      <td>8.40</td>\n",
       "      <td>179</td>\n",
       "      <td>0.80</td>\n",
       "      <td>0</td>\n",
       "      <td>10.0</td>\n",
       "      <td>276.5</td>\n",
       "      <td>NaN</td>\n",
       "    </tr>\n",
       "  </tbody>\n",
       "</table>\n",
       "<p>8760 rows × 16 columns</p>\n",
       "</div>"
      ],
      "text/plain": [
       "            time  precipIntensity  precipProbability  temperature  \\\n",
       "0     1546300800           0.0000               0.00        47.54   \n",
       "1     1546304400           0.0000               0.00        46.97   \n",
       "2     1546308000           0.0002               0.02        46.30   \n",
       "3     1546311600           0.0003               0.02        46.22   \n",
       "4     1546315200           0.0002               0.02        45.80   \n",
       "...          ...              ...                ...          ...   \n",
       "8755  1577818800           0.0000               0.00        46.49   \n",
       "8756  1577822400           0.0000               0.00        46.33   \n",
       "8757  1577826000           0.0000               0.00        46.20   \n",
       "8758  1577829600           0.0000               0.00        45.86   \n",
       "8759  1577833200           0.0000               0.00        45.44   \n",
       "\n",
       "      apparentTemperature  dewPoint  humidity  pressure  windSpeed  windGust  \\\n",
       "0                   42.07     40.47      0.76    1035.3      12.85     25.07   \n",
       "1                   41.41     40.56      0.78    1035.0      12.65     24.81   \n",
       "2                   40.68     40.78      0.81    1034.5      12.26     24.30   \n",
       "3                   40.88     41.09      0.82    1035.0      11.34     23.43   \n",
       "4                   40.39     40.98      0.83    1035.3      11.23     22.10   \n",
       "...                   ...       ...       ...       ...        ...       ...   \n",
       "8755                43.05     38.50      0.74    1030.4       6.82      9.39   \n",
       "8756                42.67     38.40      0.74    1030.1       7.21     10.20   \n",
       "8757                42.42     38.69      0.75    1030.2       7.40     10.47   \n",
       "8758                42.18     38.70      0.76    1030.4       7.04      9.71   \n",
       "8759                41.94     38.52      0.77    1030.2       6.54      8.40   \n",
       "\n",
       "      windBearing  cloudCover  uvIndex  visibility  ozone precipType  \n",
       "0             265        0.51        0        10.0  273.7        NaN  \n",
       "1             186        0.50        0        10.0  274.8        NaN  \n",
       "2             345        0.50        0        10.0  276.3       rain  \n",
       "3             272        0.52        0        10.0  277.6       rain  \n",
       "4             259        0.51        0        10.0  278.5       rain  \n",
       "...           ...         ...      ...         ...    ...        ...  \n",
       "8755          142        0.69        0        10.0  280.5        NaN  \n",
       "8756          142        0.75        0        10.0  279.6        NaN  \n",
       "8757          145        0.78        0        10.0  278.8        NaN  \n",
       "8758          159        0.78        0        10.0  277.6        NaN  \n",
       "8759          179        0.80        0        10.0  276.5        NaN  \n",
       "\n",
       "[8760 rows x 16 columns]"
      ]
     },
     "execution_count": 6,
     "metadata": {},
     "output_type": "execute_result"
    }
   ],
   "source": [
    "df"
   ]
  },
  {
   "cell_type": "code",
   "execution_count": 7,
   "metadata": {},
   "outputs": [
    {
     "data": {
      "text/plain": [
       "float64    12\n",
       "int64       3\n",
       "object      1\n",
       "dtype: int64"
      ]
     },
     "execution_count": 7,
     "metadata": {},
     "output_type": "execute_result"
    }
   ],
   "source": [
    "df.dtypes.value_counts()"
   ]
  },
  {
   "cell_type": "code",
   "execution_count": 8,
   "metadata": {},
   "outputs": [
    {
     "data": {
      "text/plain": [
       "(8760, 16)"
      ]
     },
     "execution_count": 8,
     "metadata": {},
     "output_type": "execute_result"
    }
   ],
   "source": [
    "df.shape"
   ]
  },
  {
   "cell_type": "code",
   "execution_count": 9,
   "metadata": {},
   "outputs": [
    {
     "data": {
      "text/plain": [
       "0       False\n",
       "1       False\n",
       "2       False\n",
       "3       False\n",
       "4       False\n",
       "        ...  \n",
       "8755    False\n",
       "8756    False\n",
       "8757    False\n",
       "8758    False\n",
       "8759    False\n",
       "Length: 8760, dtype: bool"
      ]
     },
     "execution_count": 9,
     "metadata": {},
     "output_type": "execute_result"
    }
   ],
   "source": [
    "#from 2019-01-01 to 2019-12-31 should have 1*24*365 = 8760 data but I am not sure about the data quality so I try to remove duplicate data\n",
    "#there is no repeat data in the dataset\n",
    "df.duplicated()"
   ]
  },
  {
   "cell_type": "code",
   "execution_count": 10,
   "metadata": {},
   "outputs": [
    {
     "name": "stdout",
     "output_type": "stream",
     "text": [
      "Missing Values\n",
      "time                      0\n",
      "precipIntensity           0\n",
      "precipProbability         0\n",
      "temperature               0\n",
      "apparentTemperature       0\n",
      "dewPoint                  0\n",
      "humidity                  0\n",
      "pressure                  0\n",
      "windSpeed                 0\n",
      "windGust                  0\n",
      "windBearing               0\n",
      "cloudCover                0\n",
      "uvIndex                   0\n",
      "visibility                0\n",
      "ozone                     0\n",
      "precipType             3134\n",
      "dtype: int64\n"
     ]
    }
   ],
   "source": [
    "# Check for presence of missing values, the column precipType has nearly half values missing\n",
    "# It's not important feature so I determine to remove it\n",
    "print(\"Missing Values\")\n",
    "print(df.isnull().sum())"
   ]
  },
  {
   "cell_type": "code",
   "execution_count": 11,
   "metadata": {},
   "outputs": [],
   "source": [
    "# extract temperature,humidity and windSpeed data for analysis and visualisa\n",
    "# I am more interest in temperature,humidity and windSpeed so I keep those column\n",
    "dataset = df[['time','temperature','humidity','windSpeed']]\n",
    "dataset = pd.DataFrame(dataset)"
   ]
  },
  {
   "cell_type": "code",
   "execution_count": 12,
   "metadata": {},
   "outputs": [
    {
     "name": "stdout",
     "output_type": "stream",
     "text": [
      "Missing Values\n",
      "time           0\n",
      "temperature    0\n",
      "humidity       0\n",
      "windSpeed      0\n",
      "dtype: int64\n"
     ]
    }
   ],
   "source": [
    "# no missing data \n",
    "print(\"Missing Values\")\n",
    "print(dataset.isnull().sum())"
   ]
  },
  {
   "cell_type": "code",
   "execution_count": 13,
   "metadata": {},
   "outputs": [
    {
     "data": {
      "text/html": [
       "<div>\n",
       "<style scoped>\n",
       "    .dataframe tbody tr th:only-of-type {\n",
       "        vertical-align: middle;\n",
       "    }\n",
       "\n",
       "    .dataframe tbody tr th {\n",
       "        vertical-align: top;\n",
       "    }\n",
       "\n",
       "    .dataframe thead th {\n",
       "        text-align: right;\n",
       "    }\n",
       "</style>\n",
       "<table border=\"1\" class=\"dataframe\">\n",
       "  <thead>\n",
       "    <tr style=\"text-align: right;\">\n",
       "      <th></th>\n",
       "      <th>time</th>\n",
       "      <th>temperature</th>\n",
       "      <th>humidity</th>\n",
       "      <th>windSpeed</th>\n",
       "    </tr>\n",
       "  </thead>\n",
       "  <tbody>\n",
       "    <tr>\n",
       "      <td>count</td>\n",
       "      <td>8.760000e+03</td>\n",
       "      <td>8760.000000</td>\n",
       "      <td>8760.000000</td>\n",
       "      <td>8760.000000</td>\n",
       "    </tr>\n",
       "    <tr>\n",
       "      <td>mean</td>\n",
       "      <td>1.562067e+09</td>\n",
       "      <td>51.943872</td>\n",
       "      <td>0.813079</td>\n",
       "      <td>11.671339</td>\n",
       "    </tr>\n",
       "    <tr>\n",
       "      <td>std</td>\n",
       "      <td>9.104179e+06</td>\n",
       "      <td>8.100560</td>\n",
       "      <td>0.094206</td>\n",
       "      <td>5.798096</td>\n",
       "    </tr>\n",
       "    <tr>\n",
       "      <td>min</td>\n",
       "      <td>1.546301e+09</td>\n",
       "      <td>31.410000</td>\n",
       "      <td>0.400000</td>\n",
       "      <td>1.460000</td>\n",
       "    </tr>\n",
       "    <tr>\n",
       "      <td>25%</td>\n",
       "      <td>1.554184e+09</td>\n",
       "      <td>45.960000</td>\n",
       "      <td>0.750000</td>\n",
       "      <td>7.130000</td>\n",
       "    </tr>\n",
       "    <tr>\n",
       "      <td>50%</td>\n",
       "      <td>1.562067e+09</td>\n",
       "      <td>51.110000</td>\n",
       "      <td>0.820000</td>\n",
       "      <td>10.850000</td>\n",
       "    </tr>\n",
       "    <tr>\n",
       "      <td>75%</td>\n",
       "      <td>1.569950e+09</td>\n",
       "      <td>57.970000</td>\n",
       "      <td>0.880000</td>\n",
       "      <td>15.422500</td>\n",
       "    </tr>\n",
       "    <tr>\n",
       "      <td>max</td>\n",
       "      <td>1.577833e+09</td>\n",
       "      <td>78.150000</td>\n",
       "      <td>1.000000</td>\n",
       "      <td>35.520000</td>\n",
       "    </tr>\n",
       "  </tbody>\n",
       "</table>\n",
       "</div>"
      ],
      "text/plain": [
       "               time  temperature     humidity    windSpeed\n",
       "count  8.760000e+03  8760.000000  8760.000000  8760.000000\n",
       "mean   1.562067e+09    51.943872     0.813079    11.671339\n",
       "std    9.104179e+06     8.100560     0.094206     5.798096\n",
       "min    1.546301e+09    31.410000     0.400000     1.460000\n",
       "25%    1.554184e+09    45.960000     0.750000     7.130000\n",
       "50%    1.562067e+09    51.110000     0.820000    10.850000\n",
       "75%    1.569950e+09    57.970000     0.880000    15.422500\n",
       "max    1.577833e+09    78.150000     1.000000    35.520000"
      ]
     },
     "execution_count": 13,
     "metadata": {},
     "output_type": "execute_result"
    }
   ],
   "source": [
    "dataset.describe()"
   ]
  },
  {
   "cell_type": "markdown",
   "metadata": {},
   "source": [
    "#### detect outliers"
   ]
  },
  {
   "cell_type": "code",
   "execution_count": 14,
   "metadata": {},
   "outputs": [],
   "source": [
    "# 1.5 IQR rule\n",
    "def detect_outliers(sr):\n",
    "    q1 = sr.quantile(0.25)\n",
    "    q3 = sr.quantile(0.75)\n",
    "    iqr = q3-q1\n",
    "    fence_low  = q1-1.5*iqr\n",
    "    fence_high = q3+1.5*iqr\n",
    "    outliers = sr.loc[(sr < fence_low) | (sr > fence_high)]\n",
    "    return outliers"
   ]
  },
  {
   "cell_type": "code",
   "execution_count": 15,
   "metadata": {},
   "outputs": [
    {
     "data": {
      "image/png": "[encoded data removed]",
      "text/plain": [
       "<Figure size 432x288 with 1 Axes>"
      ]
     },
     "metadata": {
      "needs_background": "light"
     },
     "output_type": "display_data"
    }
   ],
   "source": [
    "plt.figure()\n",
    "p = plt.boxplot(dataset['temperature'])\n",
    "x = p['fliers'][0].get_xdata()\n",
    "y = p['fliers'][0].get_ydata()\n",
    "y.sort()\n",
    "plt.show()"
   ]
  },
  {
   "cell_type": "code",
   "execution_count": 16,
   "metadata": {},
   "outputs": [
    {
     "data": {
      "text/plain": [
       "4860    76.28\n",
       "4861    77.54\n",
       "4862    78.15\n",
       "Name: temperature, dtype: float64"
      ]
     },
     "execution_count": 16,
     "metadata": {},
     "output_type": "execute_result"
    }
   ],
   "source": [
    "#temperature outliers\n",
    "outliers = detect_outliers(dataset['temperature'])\n",
    "outliers"
   ]
  },
  {
   "cell_type": "code",
   "execution_count": 17,
   "metadata": {},
   "outputs": [
    {
     "data": {
      "text/html": [
       "<div>\n",
       "<style scoped>\n",
       "    .dataframe tbody tr th:only-of-type {\n",
       "        vertical-align: middle;\n",
       "    }\n",
       "\n",
       "    .dataframe tbody tr th {\n",
       "        vertical-align: top;\n",
       "    }\n",
       "\n",
       "    .dataframe thead th {\n",
       "        text-align: right;\n",
       "    }\n",
       "</style>\n",
       "<table border=\"1\" class=\"dataframe\">\n",
       "  <thead>\n",
       "    <tr style=\"text-align: right;\">\n",
       "      <th></th>\n",
       "      <th>time</th>\n",
       "      <th>temperature</th>\n",
       "      <th>humidity</th>\n",
       "      <th>windSpeed</th>\n",
       "    </tr>\n",
       "  </thead>\n",
       "  <tbody>\n",
       "    <tr>\n",
       "      <td>4859</td>\n",
       "      <td>1563793200</td>\n",
       "      <td>72.39</td>\n",
       "      <td>0.74</td>\n",
       "      <td>17.11</td>\n",
       "    </tr>\n",
       "    <tr>\n",
       "      <td>4860</td>\n",
       "      <td>1563796800</td>\n",
       "      <td>76.28</td>\n",
       "      <td>0.68</td>\n",
       "      <td>17.11</td>\n",
       "    </tr>\n",
       "    <tr>\n",
       "      <td>4861</td>\n",
       "      <td>1563800400</td>\n",
       "      <td>77.54</td>\n",
       "      <td>0.65</td>\n",
       "      <td>16.32</td>\n",
       "    </tr>\n",
       "    <tr>\n",
       "      <td>4862</td>\n",
       "      <td>1563804000</td>\n",
       "      <td>78.15</td>\n",
       "      <td>0.63</td>\n",
       "      <td>16.52</td>\n",
       "    </tr>\n",
       "    <tr>\n",
       "      <td>4863</td>\n",
       "      <td>1563807600</td>\n",
       "      <td>75.10</td>\n",
       "      <td>0.69</td>\n",
       "      <td>16.53</td>\n",
       "    </tr>\n",
       "    <tr>\n",
       "      <td>4864</td>\n",
       "      <td>1563811200</td>\n",
       "      <td>75.13</td>\n",
       "      <td>0.69</td>\n",
       "      <td>16.59</td>\n",
       "    </tr>\n",
       "  </tbody>\n",
       "</table>\n",
       "</div>"
      ],
      "text/plain": [
       "            time  temperature  humidity  windSpeed\n",
       "4859  1563793200        72.39      0.74      17.11\n",
       "4860  1563796800        76.28      0.68      17.11\n",
       "4861  1563800400        77.54      0.65      16.32\n",
       "4862  1563804000        78.15      0.63      16.52\n",
       "4863  1563807600        75.10      0.69      16.53\n",
       "4864  1563811200        75.13      0.69      16.59"
      ]
     },
     "execution_count": 17,
     "metadata": {},
     "output_type": "execute_result"
    }
   ],
   "source": [
    "# from 1563793200 to 1563804000 the temperature become higher\n",
    "# the data around the outlier data there is no big difference\n",
    "# I think these data are reasonable\n",
    "dataset[4859:4865]"
   ]
  },
  {
   "cell_type": "code",
   "execution_count": 18,
   "metadata": {},
   "outputs": [
    {
     "data": {
      "image/png": "[encoded data removed]",
      "text/plain": [
       "<Figure size 432x288 with 1 Axes>"
      ]
     },
     "metadata": {
      "needs_background": "light"
     },
     "output_type": "display_data"
    }
   ],
   "source": [
    "plt.figure()\n",
    "p = plt.boxplot(dataset['windSpeed'])\n",
    "x = p['fliers'][0].get_xdata()\n",
    "y = p['fliers'][0].get_ydata()\n",
    "y.sort()\n",
    "plt.show()"
   ]
  },
  {
   "cell_type": "code",
   "execution_count": 19,
   "metadata": {},
   "outputs": [
    {
     "data": {
      "text/plain": [
       "624     29.79\n",
       "625     30.82\n",
       "626     29.30\n",
       "627     28.23\n",
       "924     28.77\n",
       "        ...  \n",
       "8442    32.72\n",
       "8443    33.68\n",
       "8444    33.53\n",
       "8445    32.49\n",
       "8446    30.81\n",
       "Name: windSpeed, Length: 85, dtype: float64"
      ]
     },
     "execution_count": 19,
     "metadata": {},
     "output_type": "execute_result"
    }
   ],
   "source": [
    "# there are 84 outliers data, think about that usually weather changeable\n",
    "# looks like those data are no big difference so at this moment keep them \n",
    "outliers = detect_outliers(dataset['windSpeed'])\n",
    "outliers"
   ]
  },
  {
   "cell_type": "code",
   "execution_count": 20,
   "metadata": {},
   "outputs": [
    {
     "data": {
      "text/plain": [
       "array([29.79, 30.82, 29.3 , 28.23, 28.77, 29.03, 28.45, 29.44, 32.45,\n",
       "       33.42, 34.13, 35.52, 33.28, 33.36, 30.86, 27.97, 28.31, 28.77,\n",
       "       28.3 , 29.44, 28.49, 28.59, 29.73, 28.99, 29.72, 30.51, 30.23,\n",
       "       28.75, 30.52, 32.52, 32.64, 33.05, 33.73, 33.24, 33.43, 33.08,\n",
       "       31.88, 31.8 , 31.88, 31.85, 31.42, 31.21, 31.54, 31.4 , 31.3 ,\n",
       "       30.91, 28.71, 28.42, 28.07, 29.65, 28.49, 29.12, 28.67, 29.78,\n",
       "       32.37, 32.77, 32.13, 30.67, 30.41, 30.51, 30.15, 29.95, 29.43,\n",
       "       28.51, 30.19, 32.49, 32.68, 32.87, 30.38, 28.09, 28.11, 28.61,\n",
       "       28.63, 28.45, 27.89, 28.6 , 29.18, 28.95, 28.93, 30.03, 32.72,\n",
       "       33.68, 33.53, 32.49, 30.81])"
      ]
     },
     "execution_count": 20,
     "metadata": {},
     "output_type": "execute_result"
    }
   ],
   "source": [
    "outliers.values"
   ]
  },
  {
   "cell_type": "code",
   "execution_count": 21,
   "metadata": {},
   "outputs": [
    {
     "data": {
      "image/png": "[encoded data removed]",
      "text/plain": [
       "<Figure size 432x288 with 1 Axes>"
      ]
     },
     "metadata": {
      "needs_background": "light"
     },
     "output_type": "display_data"
    }
   ],
   "source": [
    "plt.figure()\n",
    "p = plt.boxplot(df['humidity'])\n",
    "x = p['fliers'][0].get_xdata()\n",
    "y = p['fliers'][0].get_ydata()\n",
    "y.sort()\n",
    "plt.show()"
   ]
  },
  {
   "cell_type": "code",
   "execution_count": 22,
   "metadata": {},
   "outputs": [
    {
     "data": {
      "text/plain": [
       "1645    0.55\n",
       "1646    0.55\n",
       "1957    0.54\n",
       "1958    0.51\n",
       "1959    0.55\n",
       "        ... \n",
       "6156    0.50\n",
       "6157    0.48\n",
       "6158    0.47\n",
       "6159    0.54\n",
       "6590    0.54\n",
       "Name: humidity, Length: 70, dtype: float64"
      ]
     },
     "execution_count": 22,
     "metadata": {},
     "output_type": "execute_result"
    }
   ],
   "source": [
    "# same as the wind speed. To the humidity there are 206 outliers data, think about that usually weather changeable\n",
    "# looks like those data are similar so at this moment keep them\n",
    "outliers = detect_outliers(dataset['humidity'])\n",
    "outliers"
   ]
  },
  {
   "cell_type": "code",
   "execution_count": 23,
   "metadata": {},
   "outputs": [
    {
     "data": {
      "text/plain": [
       "array([0.55, 0.55, 0.54, 0.51, 0.55, 0.52, 0.49, 0.5 , 0.52, 0.55, 0.55,\n",
       "       0.55, 0.54, 0.51, 0.51, 0.53, 0.52, 0.53, 0.55, 0.55, 0.51, 0.48,\n",
       "       0.45, 0.44, 0.43, 0.46, 0.51, 0.55, 0.52, 0.52, 0.54, 0.55, 0.51,\n",
       "       0.51, 0.49, 0.51, 0.54, 0.54, 0.52, 0.51, 0.45, 0.48, 0.54, 0.53,\n",
       "       0.41, 0.4 , 0.41, 0.44, 0.45, 0.47, 0.46, 0.5 , 0.54, 0.48, 0.46,\n",
       "       0.48, 0.52, 0.53, 0.53, 0.51, 0.54, 0.55, 0.55, 0.55, 0.54, 0.5 ,\n",
       "       0.48, 0.47, 0.54, 0.54])"
      ]
     },
     "execution_count": 23,
     "metadata": {},
     "output_type": "execute_result"
    }
   ],
   "source": [
    "outliers.values"
   ]
  },
  {
   "cell_type": "code",
   "execution_count": null,
   "metadata": {},
   "outputs": [],
   "source": [
    "#some value of temperature missing, because summary the data as daily still has the temperature missing data problem so use the monthly mean temperature to fill the missing data\n",
    "#dataset[\"temperature\"] = pd.to_numeric(dataset[\"temperature\"], errors='coerce')"
   ]
  },
  {
   "cell_type": "code",
   "execution_count": null,
   "metadata": {},
   "outputs": [],
   "source": [
    "#if the temperature has missing values I will use the month average temperature to fill it\n",
    "'''\n",
    "for i in range(0,12):\n",
    "    if(i+1 == 1):\n",
    "        begin = 0 \n",
    "        end = 24*31\n",
    "    elif(i+1 in (3,5,7,8,10,12)):\n",
    "        end += 24*31\n",
    "    elif(i+1 == 2):\n",
    "        end += 24*28\n",
    "    elif(i+1 in (4,6,9,11)):\n",
    "        end += 24*30 \n",
    "    dataset[begin:end]['temperature'] = dataset[begin:end]['temperature'].fillna(avg_monthly[\"temperature\"][i])\n",
    "    begin = end\n",
    "'''"
   ]
  },
  {
   "cell_type": "code",
   "execution_count": 24,
   "metadata": {},
   "outputs": [],
   "source": [
    "#transform the stamptime to time\n",
    "dataset['time'] = pd.to_datetime(dataset['time'],unit='s')"
   ]
  },
  {
   "cell_type": "code",
   "execution_count": 25,
   "metadata": {},
   "outputs": [
    {
     "data": {
      "text/html": [
       "<div>\n",
       "<style scoped>\n",
       "    .dataframe tbody tr th:only-of-type {\n",
       "        vertical-align: middle;\n",
       "    }\n",
       "\n",
       "    .dataframe tbody tr th {\n",
       "        vertical-align: top;\n",
       "    }\n",
       "\n",
       "    .dataframe thead th {\n",
       "        text-align: right;\n",
       "    }\n",
       "</style>\n",
       "<table border=\"1\" class=\"dataframe\">\n",
       "  <thead>\n",
       "    <tr style=\"text-align: right;\">\n",
       "      <th></th>\n",
       "      <th>time</th>\n",
       "      <th>temperature</th>\n",
       "      <th>humidity</th>\n",
       "      <th>windSpeed</th>\n",
       "    </tr>\n",
       "  </thead>\n",
       "  <tbody>\n",
       "    <tr>\n",
       "      <td>0</td>\n",
       "      <td>2019-01-01 00:00:00</td>\n",
       "      <td>47.54</td>\n",
       "      <td>0.76</td>\n",
       "      <td>12.85</td>\n",
       "    </tr>\n",
       "    <tr>\n",
       "      <td>1</td>\n",
       "      <td>2019-01-01 01:00:00</td>\n",
       "      <td>46.97</td>\n",
       "      <td>0.78</td>\n",
       "      <td>12.65</td>\n",
       "    </tr>\n",
       "    <tr>\n",
       "      <td>2</td>\n",
       "      <td>2019-01-01 02:00:00</td>\n",
       "      <td>46.30</td>\n",
       "      <td>0.81</td>\n",
       "      <td>12.26</td>\n",
       "    </tr>\n",
       "    <tr>\n",
       "      <td>3</td>\n",
       "      <td>2019-01-01 03:00:00</td>\n",
       "      <td>46.22</td>\n",
       "      <td>0.82</td>\n",
       "      <td>11.34</td>\n",
       "    </tr>\n",
       "    <tr>\n",
       "      <td>4</td>\n",
       "      <td>2019-01-01 04:00:00</td>\n",
       "      <td>45.80</td>\n",
       "      <td>0.83</td>\n",
       "      <td>11.23</td>\n",
       "    </tr>\n",
       "    <tr>\n",
       "      <td>...</td>\n",
       "      <td>...</td>\n",
       "      <td>...</td>\n",
       "      <td>...</td>\n",
       "      <td>...</td>\n",
       "    </tr>\n",
       "    <tr>\n",
       "      <td>8755</td>\n",
       "      <td>2019-12-31 19:00:00</td>\n",
       "      <td>46.49</td>\n",
       "      <td>0.74</td>\n",
       "      <td>6.82</td>\n",
       "    </tr>\n",
       "    <tr>\n",
       "      <td>8756</td>\n",
       "      <td>2019-12-31 20:00:00</td>\n",
       "      <td>46.33</td>\n",
       "      <td>0.74</td>\n",
       "      <td>7.21</td>\n",
       "    </tr>\n",
       "    <tr>\n",
       "      <td>8757</td>\n",
       "      <td>2019-12-31 21:00:00</td>\n",
       "      <td>46.20</td>\n",
       "      <td>0.75</td>\n",
       "      <td>7.40</td>\n",
       "    </tr>\n",
       "    <tr>\n",
       "      <td>8758</td>\n",
       "      <td>2019-12-31 22:00:00</td>\n",
       "      <td>45.86</td>\n",
       "      <td>0.76</td>\n",
       "      <td>7.04</td>\n",
       "    </tr>\n",
       "    <tr>\n",
       "      <td>8759</td>\n",
       "      <td>2019-12-31 23:00:00</td>\n",
       "      <td>45.44</td>\n",
       "      <td>0.77</td>\n",
       "      <td>6.54</td>\n",
       "    </tr>\n",
       "  </tbody>\n",
       "</table>\n",
       "<p>8760 rows × 4 columns</p>\n",
       "</div>"
      ],
      "text/plain": [
       "                    time  temperature  humidity  windSpeed\n",
       "0    2019-01-01 00:00:00        47.54      0.76      12.85\n",
       "1    2019-01-01 01:00:00        46.97      0.78      12.65\n",
       "2    2019-01-01 02:00:00        46.30      0.81      12.26\n",
       "3    2019-01-01 03:00:00        46.22      0.82      11.34\n",
       "4    2019-01-01 04:00:00        45.80      0.83      11.23\n",
       "...                  ...          ...       ...        ...\n",
       "8755 2019-12-31 19:00:00        46.49      0.74       6.82\n",
       "8756 2019-12-31 20:00:00        46.33      0.74       7.21\n",
       "8757 2019-12-31 21:00:00        46.20      0.75       7.40\n",
       "8758 2019-12-31 22:00:00        45.86      0.76       7.04\n",
       "8759 2019-12-31 23:00:00        45.44      0.77       6.54\n",
       "\n",
       "[8760 rows x 4 columns]"
      ]
     },
     "execution_count": 25,
     "metadata": {},
     "output_type": "execute_result"
    }
   ],
   "source": [
    "dataset"
   ]
  },
  {
   "cell_type": "code",
   "execution_count": 26,
   "metadata": {},
   "outputs": [
    {
     "data": {
      "text/html": [
       "<div>\n",
       "<style scoped>\n",
       "    .dataframe tbody tr th:only-of-type {\n",
       "        vertical-align: middle;\n",
       "    }\n",
       "\n",
       "    .dataframe tbody tr th {\n",
       "        vertical-align: top;\n",
       "    }\n",
       "\n",
       "    .dataframe thead th {\n",
       "        text-align: right;\n",
       "    }\n",
       "</style>\n",
       "<table border=\"1\" class=\"dataframe\">\n",
       "  <thead>\n",
       "    <tr style=\"text-align: right;\">\n",
       "      <th></th>\n",
       "      <th>temperature</th>\n",
       "      <th>humidity</th>\n",
       "      <th>windSpeed</th>\n",
       "    </tr>\n",
       "    <tr>\n",
       "      <th>time</th>\n",
       "      <th></th>\n",
       "      <th></th>\n",
       "      <th></th>\n",
       "    </tr>\n",
       "  </thead>\n",
       "  <tbody>\n",
       "    <tr>\n",
       "      <td>2019-01-01 00:00:00</td>\n",
       "      <td>47.54</td>\n",
       "      <td>0.76</td>\n",
       "      <td>12.85</td>\n",
       "    </tr>\n",
       "    <tr>\n",
       "      <td>2019-01-01 01:00:00</td>\n",
       "      <td>46.97</td>\n",
       "      <td>0.78</td>\n",
       "      <td>12.65</td>\n",
       "    </tr>\n",
       "    <tr>\n",
       "      <td>2019-01-01 02:00:00</td>\n",
       "      <td>46.30</td>\n",
       "      <td>0.81</td>\n",
       "      <td>12.26</td>\n",
       "    </tr>\n",
       "    <tr>\n",
       "      <td>2019-01-01 03:00:00</td>\n",
       "      <td>46.22</td>\n",
       "      <td>0.82</td>\n",
       "      <td>11.34</td>\n",
       "    </tr>\n",
       "    <tr>\n",
       "      <td>2019-01-01 04:00:00</td>\n",
       "      <td>45.80</td>\n",
       "      <td>0.83</td>\n",
       "      <td>11.23</td>\n",
       "    </tr>\n",
       "    <tr>\n",
       "      <td>...</td>\n",
       "      <td>...</td>\n",
       "      <td>...</td>\n",
       "      <td>...</td>\n",
       "    </tr>\n",
       "    <tr>\n",
       "      <td>2019-12-31 19:00:00</td>\n",
       "      <td>46.49</td>\n",
       "      <td>0.74</td>\n",
       "      <td>6.82</td>\n",
       "    </tr>\n",
       "    <tr>\n",
       "      <td>2019-12-31 20:00:00</td>\n",
       "      <td>46.33</td>\n",
       "      <td>0.74</td>\n",
       "      <td>7.21</td>\n",
       "    </tr>\n",
       "    <tr>\n",
       "      <td>2019-12-31 21:00:00</td>\n",
       "      <td>46.20</td>\n",
       "      <td>0.75</td>\n",
       "      <td>7.40</td>\n",
       "    </tr>\n",
       "    <tr>\n",
       "      <td>2019-12-31 22:00:00</td>\n",
       "      <td>45.86</td>\n",
       "      <td>0.76</td>\n",
       "      <td>7.04</td>\n",
       "    </tr>\n",
       "    <tr>\n",
       "      <td>2019-12-31 23:00:00</td>\n",
       "      <td>45.44</td>\n",
       "      <td>0.77</td>\n",
       "      <td>6.54</td>\n",
       "    </tr>\n",
       "  </tbody>\n",
       "</table>\n",
       "<p>8760 rows × 3 columns</p>\n",
       "</div>"
      ],
      "text/plain": [
       "                     temperature  humidity  windSpeed\n",
       "time                                                 \n",
       "2019-01-01 00:00:00        47.54      0.76      12.85\n",
       "2019-01-01 01:00:00        46.97      0.78      12.65\n",
       "2019-01-01 02:00:00        46.30      0.81      12.26\n",
       "2019-01-01 03:00:00        46.22      0.82      11.34\n",
       "2019-01-01 04:00:00        45.80      0.83      11.23\n",
       "...                          ...       ...        ...\n",
       "2019-12-31 19:00:00        46.49      0.74       6.82\n",
       "2019-12-31 20:00:00        46.33      0.74       7.21\n",
       "2019-12-31 21:00:00        46.20      0.75       7.40\n",
       "2019-12-31 22:00:00        45.86      0.76       7.04\n",
       "2019-12-31 23:00:00        45.44      0.77       6.54\n",
       "\n",
       "[8760 rows x 3 columns]"
      ]
     },
     "execution_count": 26,
     "metadata": {},
     "output_type": "execute_result"
    }
   ],
   "source": [
    "# set time as index so that can use groupby\n",
    "dataset.set_index(\"time\")"
   ]
  },
  {
   "cell_type": "code",
   "execution_count": 27,
   "metadata": {},
   "outputs": [
    {
     "data": {
      "text/html": [
       "<div>\n",
       "<style scoped>\n",
       "    .dataframe tbody tr th:only-of-type {\n",
       "        vertical-align: middle;\n",
       "    }\n",
       "\n",
       "    .dataframe tbody tr th {\n",
       "        vertical-align: top;\n",
       "    }\n",
       "\n",
       "    .dataframe thead th {\n",
       "        text-align: right;\n",
       "    }\n",
       "</style>\n",
       "<table border=\"1\" class=\"dataframe\">\n",
       "  <thead>\n",
       "    <tr style=\"text-align: right;\">\n",
       "      <th></th>\n",
       "      <th>temperature</th>\n",
       "      <th>humidity</th>\n",
       "      <th>windSpeed</th>\n",
       "    </tr>\n",
       "    <tr>\n",
       "      <th>time</th>\n",
       "      <th></th>\n",
       "      <th></th>\n",
       "      <th></th>\n",
       "    </tr>\n",
       "  </thead>\n",
       "  <tbody>\n",
       "    <tr>\n",
       "      <td>2019-01-01</td>\n",
       "      <td>46.109583</td>\n",
       "      <td>0.805833</td>\n",
       "      <td>8.759167</td>\n",
       "    </tr>\n",
       "    <tr>\n",
       "      <td>2019-01-02</td>\n",
       "      <td>42.192083</td>\n",
       "      <td>0.755833</td>\n",
       "      <td>6.046667</td>\n",
       "    </tr>\n",
       "    <tr>\n",
       "      <td>2019-01-03</td>\n",
       "      <td>42.180417</td>\n",
       "      <td>0.788333</td>\n",
       "      <td>6.728333</td>\n",
       "    </tr>\n",
       "    <tr>\n",
       "      <td>2019-01-04</td>\n",
       "      <td>39.946250</td>\n",
       "      <td>0.717083</td>\n",
       "      <td>5.942083</td>\n",
       "    </tr>\n",
       "    <tr>\n",
       "      <td>2019-01-05</td>\n",
       "      <td>41.510417</td>\n",
       "      <td>0.745833</td>\n",
       "      <td>7.770000</td>\n",
       "    </tr>\n",
       "    <tr>\n",
       "      <td>...</td>\n",
       "      <td>...</td>\n",
       "      <td>...</td>\n",
       "      <td>...</td>\n",
       "    </tr>\n",
       "    <tr>\n",
       "      <td>2019-12-27</td>\n",
       "      <td>51.010417</td>\n",
       "      <td>0.847083</td>\n",
       "      <td>10.202917</td>\n",
       "    </tr>\n",
       "    <tr>\n",
       "      <td>2019-12-28</td>\n",
       "      <td>50.673333</td>\n",
       "      <td>0.751667</td>\n",
       "      <td>16.677500</td>\n",
       "    </tr>\n",
       "    <tr>\n",
       "      <td>2019-12-29</td>\n",
       "      <td>50.774167</td>\n",
       "      <td>0.741667</td>\n",
       "      <td>16.485833</td>\n",
       "    </tr>\n",
       "    <tr>\n",
       "      <td>2019-12-30</td>\n",
       "      <td>49.204167</td>\n",
       "      <td>0.760833</td>\n",
       "      <td>11.192500</td>\n",
       "    </tr>\n",
       "    <tr>\n",
       "      <td>2019-12-31</td>\n",
       "      <td>46.141667</td>\n",
       "      <td>0.768333</td>\n",
       "      <td>9.126250</td>\n",
       "    </tr>\n",
       "  </tbody>\n",
       "</table>\n",
       "<p>365 rows × 3 columns</p>\n",
       "</div>"
      ],
      "text/plain": [
       "            temperature  humidity  windSpeed\n",
       "time                                        \n",
       "2019-01-01    46.109583  0.805833   8.759167\n",
       "2019-01-02    42.192083  0.755833   6.046667\n",
       "2019-01-03    42.180417  0.788333   6.728333\n",
       "2019-01-04    39.946250  0.717083   5.942083\n",
       "2019-01-05    41.510417  0.745833   7.770000\n",
       "...                 ...       ...        ...\n",
       "2019-12-27    51.010417  0.847083  10.202917\n",
       "2019-12-28    50.673333  0.751667  16.677500\n",
       "2019-12-29    50.774167  0.741667  16.485833\n",
       "2019-12-30    49.204167  0.760833  11.192500\n",
       "2019-12-31    46.141667  0.768333   9.126250\n",
       "\n",
       "[365 rows x 3 columns]"
      ]
     },
     "execution_count": 27,
     "metadata": {},
     "output_type": "execute_result"
    }
   ],
   "source": [
    "daily = dataset.groupby(pd.Grouper(key='time', freq='24h'))\n",
    "avg_daily = daily.mean()\n",
    "avg_daily"
   ]
  },
  {
   "cell_type": "code",
   "execution_count": 28,
   "metadata": {},
   "outputs": [
    {
     "data": {
      "text/html": [
       "<div>\n",
       "<style scoped>\n",
       "    .dataframe tbody tr th:only-of-type {\n",
       "        vertical-align: middle;\n",
       "    }\n",
       "\n",
       "    .dataframe tbody tr th {\n",
       "        vertical-align: top;\n",
       "    }\n",
       "\n",
       "    .dataframe thead th {\n",
       "        text-align: right;\n",
       "    }\n",
       "</style>\n",
       "<table border=\"1\" class=\"dataframe\">\n",
       "  <thead>\n",
       "    <tr style=\"text-align: right;\">\n",
       "      <th></th>\n",
       "      <th>temperature</th>\n",
       "      <th>humidity</th>\n",
       "      <th>windSpeed</th>\n",
       "    </tr>\n",
       "    <tr>\n",
       "      <th>time</th>\n",
       "      <th></th>\n",
       "      <th></th>\n",
       "      <th></th>\n",
       "    </tr>\n",
       "  </thead>\n",
       "  <tbody>\n",
       "    <tr>\n",
       "      <td>2019-01-31</td>\n",
       "      <td>43.439126</td>\n",
       "      <td>0.802567</td>\n",
       "      <td>11.673535</td>\n",
       "    </tr>\n",
       "    <tr>\n",
       "      <td>2019-02-28</td>\n",
       "      <td>47.227857</td>\n",
       "      <td>0.782202</td>\n",
       "      <td>14.710432</td>\n",
       "    </tr>\n",
       "    <tr>\n",
       "      <td>2019-03-31</td>\n",
       "      <td>47.307325</td>\n",
       "      <td>0.787285</td>\n",
       "      <td>13.992272</td>\n",
       "    </tr>\n",
       "    <tr>\n",
       "      <td>2019-04-30</td>\n",
       "      <td>49.437097</td>\n",
       "      <td>0.808542</td>\n",
       "      <td>11.510583</td>\n",
       "    </tr>\n",
       "    <tr>\n",
       "      <td>2019-05-31</td>\n",
       "      <td>53.551223</td>\n",
       "      <td>0.795739</td>\n",
       "      <td>8.521237</td>\n",
       "    </tr>\n",
       "    <tr>\n",
       "      <td>2019-06-30</td>\n",
       "      <td>56.793819</td>\n",
       "      <td>0.830736</td>\n",
       "      <td>9.930833</td>\n",
       "    </tr>\n",
       "    <tr>\n",
       "      <td>2019-07-31</td>\n",
       "      <td>62.511129</td>\n",
       "      <td>0.828118</td>\n",
       "      <td>8.621573</td>\n",
       "    </tr>\n",
       "    <tr>\n",
       "      <td>2019-08-31</td>\n",
       "      <td>61.814099</td>\n",
       "      <td>0.843481</td>\n",
       "      <td>11.485296</td>\n",
       "    </tr>\n",
       "    <tr>\n",
       "      <td>2019-09-30</td>\n",
       "      <td>57.865542</td>\n",
       "      <td>0.822056</td>\n",
       "      <td>11.056486</td>\n",
       "    </tr>\n",
       "    <tr>\n",
       "      <td>2019-10-31</td>\n",
       "      <td>51.311425</td>\n",
       "      <td>0.812030</td>\n",
       "      <td>12.239422</td>\n",
       "    </tr>\n",
       "    <tr>\n",
       "      <td>2019-11-30</td>\n",
       "      <td>46.687264</td>\n",
       "      <td>0.842569</td>\n",
       "      <td>12.400819</td>\n",
       "    </tr>\n",
       "    <tr>\n",
       "      <td>2019-12-31</td>\n",
       "      <td>45.021210</td>\n",
       "      <td>0.800296</td>\n",
       "      <td>14.150054</td>\n",
       "    </tr>\n",
       "  </tbody>\n",
       "</table>\n",
       "</div>"
      ],
      "text/plain": [
       "            temperature  humidity  windSpeed\n",
       "time                                        \n",
       "2019-01-31    43.439126  0.802567  11.673535\n",
       "2019-02-28    47.227857  0.782202  14.710432\n",
       "2019-03-31    47.307325  0.787285  13.992272\n",
       "2019-04-30    49.437097  0.808542  11.510583\n",
       "2019-05-31    53.551223  0.795739   8.521237\n",
       "2019-06-30    56.793819  0.830736   9.930833\n",
       "2019-07-31    62.511129  0.828118   8.621573\n",
       "2019-08-31    61.814099  0.843481  11.485296\n",
       "2019-09-30    57.865542  0.822056  11.056486\n",
       "2019-10-31    51.311425  0.812030  12.239422\n",
       "2019-11-30    46.687264  0.842569  12.400819\n",
       "2019-12-31    45.021210  0.800296  14.150054"
      ]
     },
     "execution_count": 28,
     "metadata": {},
     "output_type": "execute_result"
    }
   ],
   "source": [
    "monthly = dataset.groupby(pd.Grouper(key='time', freq='M'))\n",
    "avg_monthly = monthly.mean()\n",
    "avg_monthly"
   ]
  },
  {
   "cell_type": "code",
   "execution_count": 29,
   "metadata": {},
   "outputs": [
    {
     "data": {
      "text/plain": [
       "Series([], Freq: M, Name: temperature, dtype: float64)"
      ]
     },
     "execution_count": 29,
     "metadata": {},
     "output_type": "execute_result"
    }
   ],
   "source": [
    "# monthly average data removed outliers\n",
    "outliers = detect_outliers(avg_monthly['temperature'])\n",
    "outliers"
   ]
  },
  {
   "cell_type": "code",
   "execution_count": 30,
   "metadata": {},
   "outputs": [
    {
     "data": {
      "text/plain": [
       "Series([], Freq: M, Name: windSpeed, dtype: float64)"
      ]
     },
     "execution_count": 30,
     "metadata": {},
     "output_type": "execute_result"
    }
   ],
   "source": [
    "outliers = detect_outliers(avg_monthly['windSpeed'])\n",
    "outliers"
   ]
  },
  {
   "cell_type": "code",
   "execution_count": 31,
   "metadata": {},
   "outputs": [
    {
     "data": {
      "text/plain": [
       "Series([], Freq: M, Name: humidity, dtype: float64)"
      ]
     },
     "execution_count": 31,
     "metadata": {},
     "output_type": "execute_result"
    }
   ],
   "source": [
    "outliers = detect_outliers(avg_monthly['humidity'])\n",
    "outliers"
   ]
  },
  {
   "cell_type": "markdown",
   "metadata": {},
   "source": [
    "### Task 5: Analyse and summarise the cleaned dataset"
   ]
  },
  {
   "cell_type": "code",
   "execution_count": 32,
   "metadata": {},
   "outputs": [
    {
     "name": "stdout",
     "output_type": "stream",
     "text": [
      "\n",
      "Simplified_data columnns:\n",
      "Index(['time', 'temperature', 'humidity', 'windSpeed'], dtype='object')\n",
      "\n",
      "Simplified_data Descriptive Stats:\n",
      "\n",
      "       temperature     humidity    windSpeed\n",
      "count  8760.000000  8760.000000  8760.000000\n",
      "mean     51.943872     0.813079    11.671339\n",
      "std       8.100560     0.094206     5.798096\n",
      "min      31.410000     0.400000     1.460000\n",
      "25%      45.960000     0.750000     7.130000\n",
      "50%      51.110000     0.820000    10.850000\n",
      "75%      57.970000     0.880000    15.422500\n",
      "max      78.150000     1.000000    35.520000\n"
     ]
    }
   ],
   "source": [
    "print(\"\\nSimplified_data columnns:\\n\" + str(dataset.columns) + \"\\n\")\n",
    "print(\"Simplified_data Descriptive Stats:\\n\")\n",
    "print(dataset.describe())"
   ]
  },
  {
   "cell_type": "code",
   "execution_count": 33,
   "metadata": {},
   "outputs": [
    {
     "name": "stdout",
     "output_type": "stream",
     "text": [
      "Descriptive Stats:\n",
      "\n",
      "       temperature   humidity  windSpeed\n",
      "count    12.000000  12.000000  12.000000\n",
      "mean     51.913926   0.812968  11.691045\n",
      "std       6.526571   0.020510   2.007013\n",
      "min      43.439126   0.782202   8.521237\n",
      "25%      47.092709   0.799157  10.775073\n",
      "50%      50.374261   0.810286  11.592059\n",
      "75%      57.061750   0.828773  12.798682\n",
      "max      62.511129   0.843481  14.710432\n"
     ]
    }
   ],
   "source": [
    "print(\"Descriptive Stats:\\n\")\n",
    "print(avg_monthly.describe())"
   ]
  },
  {
   "cell_type": "markdown",
   "metadata": {},
   "source": [
    "#### Visualization data"
   ]
  },
  {
   "cell_type": "code",
   "execution_count": 34,
   "metadata": {
    "scrolled": true
   },
   "outputs": [
    {
     "data": {
      "text/plain": [
       "array([[<matplotlib.axes._subplots.AxesSubplot object at 0x11f91da50>,\n",
       "        <matplotlib.axes._subplots.AxesSubplot object at 0x11f942b50>,\n",
       "        <matplotlib.axes._subplots.AxesSubplot object at 0x11fad5cd0>],\n",
       "       [<matplotlib.axes._subplots.AxesSubplot object at 0x11fe22990>,\n",
       "        <matplotlib.axes._subplots.AxesSubplot object at 0x11fe60d10>,\n",
       "        <matplotlib.axes._subplots.AxesSubplot object at 0x11fe9a9d0>],\n",
       "       [<matplotlib.axes._subplots.AxesSubplot object at 0x11fed8e50>,\n",
       "        <matplotlib.axes._subplots.AxesSubplot object at 0x11ff0fa10>,\n",
       "        <matplotlib.axes._subplots.AxesSubplot object at 0x11ff19590>]],\n",
       "      dtype=object)"
      ]
     },
     "execution_count": 34,
     "metadata": {},
     "output_type": "execute_result"
    },
    {
     "data": {
      "image/png": "[encoded data removed]",
      "text/plain": [
       "<Figure size 432x432 with 9 Axes>"
      ]
     },
     "metadata": {
      "needs_background": "light"
     },
     "output_type": "display_data"
    }
   ],
   "source": [
    "from pandas.plotting import scatter_matrix\n",
    "scatter_matrix(avg_monthly, alpha=0.2, figsize=(6, 6), diagonal='kde')"
   ]
  },
  {
   "cell_type": "code",
   "execution_count": 35,
   "metadata": {},
   "outputs": [
    {
     "data": {
      "text/plain": [
       "array([[<matplotlib.axes._subplots.AxesSubplot object at 0x121ddaf50>,\n",
       "        <matplotlib.axes._subplots.AxesSubplot object at 0x121f48750>,\n",
       "        <matplotlib.axes._subplots.AxesSubplot object at 0x122007f10>],\n",
       "       [<matplotlib.axes._subplots.AxesSubplot object at 0x122049750>,\n",
       "        <matplotlib.axes._subplots.AxesSubplot object at 0x12207df50>,\n",
       "        <matplotlib.axes._subplots.AxesSubplot object at 0x1220be790>],\n",
       "       [<matplotlib.axes._subplots.AxesSubplot object at 0x1220eff90>,\n",
       "        <matplotlib.axes._subplots.AxesSubplot object at 0x1221347d0>,\n",
       "        <matplotlib.axes._subplots.AxesSubplot object at 0x12213e350>]],\n",
       "      dtype=object)"
      ]
     },
     "execution_count": 35,
     "metadata": {},
     "output_type": "execute_result"
    },
    {
     "data": {
      "image/png": "[encoded data removed]",
      "text/plain": [
       "<Figure size 432x432 with 9 Axes>"
      ]
     },
     "metadata": {
      "needs_background": "light"
     },
     "output_type": "display_data"
    }
   ],
   "source": [
    "from pandas.plotting import scatter_matrix\n",
    "scatter_matrix(avg_daily, alpha=0.2, figsize=(6, 6), diagonal='kde')"
   ]
  },
  {
   "cell_type": "code",
   "execution_count": 36,
   "metadata": {},
   "outputs": [
    {
     "data": {
      "text/plain": [
       "<matplotlib.axes._subplots.AxesSubplot at 0x122286250>"
      ]
     },
     "execution_count": 36,
     "metadata": {},
     "output_type": "execute_result"
    },
    {
     "data": {
      "image/png": "[encoded data removed]",
      "text/plain": [
       "<Figure size 432x288 with 1 Axes>"
      ]
     },
     "metadata": {
      "needs_background": "light"
     },
     "output_type": "display_data"
    }
   ],
   "source": [
    "avg_monthly.plot.area(stacked=False)"
   ]
  },
  {
   "cell_type": "code",
   "execution_count": 37,
   "metadata": {},
   "outputs": [
    {
     "data": {
      "text/plain": [
       "<matplotlib.axes._subplots.AxesSubplot at 0x11f994f10>"
      ]
     },
     "execution_count": 37,
     "metadata": {},
     "output_type": "execute_result"
    },
    {
     "data": {
      "image/png": "[encoded data removed]",
      "text/plain": [
       "<Figure size 432x288 with 1 Axes>"
      ]
     },
     "metadata": {
      "needs_background": "light"
     },
     "output_type": "display_data"
    }
   ],
   "source": [
    "avg_monthly.plot.hist(stacked=True)"
   ]
  },
  {
   "cell_type": "code",
   "execution_count": 38,
   "metadata": {},
   "outputs": [
    {
     "data": {
      "image/png": "[encoded data removed]",
      "text/plain": [
       "<Figure size 432x432 with 3 Axes>"
      ]
     },
     "metadata": {
      "needs_background": "light"
     },
     "output_type": "display_data"
    }
   ],
   "source": [
    "avg_monthly.plot(subplots=True, figsize=(6, 6));"
   ]
  },
  {
   "cell_type": "markdown",
   "metadata": {},
   "source": [
    "The trend of wind speed, humidity looks more similar so I focus on analyzing the relationship between them"
   ]
  },
  {
   "cell_type": "code",
   "execution_count": 39,
   "metadata": {},
   "outputs": [
    {
     "data": {
      "text/plain": [
       "<matplotlib.axes._subplots.AxesSubplot at 0x122676110>"
      ]
     },
     "execution_count": 39,
     "metadata": {},
     "output_type": "execute_result"
    },
    {
     "data": {
      "image/png": "[encoded data removed]",
      "text/plain": [
       "<Figure size 432x288 with 1 Axes>"
      ]
     },
     "metadata": {
      "needs_background": "light"
     },
     "output_type": "display_data"
    }
   ],
   "source": [
    "avg_monthly.plot.scatter(x=\"humidity\", y=\"windSpeed\", s=50 )"
   ]
  },
  {
   "cell_type": "code",
   "execution_count": 40,
   "metadata": {},
   "outputs": [
    {
     "data": {
      "image/png": "[encoded data removed]",
      "text/plain": [
       "<Figure size 432x288 with 1 Axes>"
      ]
     },
     "metadata": {
      "needs_background": "light"
     },
     "output_type": "display_data"
    }
   ],
   "source": [
    "plt.scatter(avg_monthly['humidity'], avg_monthly['windSpeed'])\n",
    "plt.show() "
   ]
  },
  {
   "cell_type": "code",
   "execution_count": 41,
   "metadata": {},
   "outputs": [
    {
     "data": {
      "text/plain": [
       "<Figure size 432x288 with 0 Axes>"
      ]
     },
     "metadata": {},
     "output_type": "display_data"
    },
    {
     "data": {
      "image/png": "[encoded data removed]",
      "text/plain": [
       "<Figure size 432x288 with 2 Axes>"
      ]
     },
     "metadata": {
      "needs_background": "light"
     },
     "output_type": "display_data"
    }
   ],
   "source": [
    "#because the unit of windSpeed and humidity has big different so set different scales on left and right on the same axes\n",
    "plt.figure()\n",
    "\n",
    "ax = avg_monthly[['windSpeed','humidity']].plot(secondary_y=['humidity'])\n",
    "ax.set_ylabel(\"windSpeed\")\n",
    "ax.right_ax.set_ylabel(\"humidity\")\n",
    "\n",
    "plt.title(\"Avg Monthly windSpeed and humidity in Dublin in 2019\\n\")\n",
    "plt.xlabel(\"Time\")\n",
    "\n",
    "plt.show()"
   ]
  },
  {
   "cell_type": "code",
   "execution_count": 42,
   "metadata": {},
   "outputs": [
    {
     "data": {
      "text/html": [
       "<div>\n",
       "<style scoped>\n",
       "    .dataframe tbody tr th:only-of-type {\n",
       "        vertical-align: middle;\n",
       "    }\n",
       "\n",
       "    .dataframe tbody tr th {\n",
       "        vertical-align: top;\n",
       "    }\n",
       "\n",
       "    .dataframe thead th {\n",
       "        text-align: right;\n",
       "    }\n",
       "</style>\n",
       "<table border=\"1\" class=\"dataframe\">\n",
       "  <thead>\n",
       "    <tr style=\"text-align: right;\">\n",
       "      <th></th>\n",
       "      <th>humidity</th>\n",
       "    </tr>\n",
       "    <tr>\n",
       "      <th>windSpeed</th>\n",
       "      <th></th>\n",
       "    </tr>\n",
       "  </thead>\n",
       "  <tbody>\n",
       "    <tr>\n",
       "      <td>8.521237</td>\n",
       "      <td>0.795739</td>\n",
       "    </tr>\n",
       "    <tr>\n",
       "      <td>8.621573</td>\n",
       "      <td>0.828118</td>\n",
       "    </tr>\n",
       "    <tr>\n",
       "      <td>9.930833</td>\n",
       "      <td>0.830736</td>\n",
       "    </tr>\n",
       "    <tr>\n",
       "      <td>11.056486</td>\n",
       "      <td>0.822056</td>\n",
       "    </tr>\n",
       "    <tr>\n",
       "      <td>11.485296</td>\n",
       "      <td>0.843481</td>\n",
       "    </tr>\n",
       "    <tr>\n",
       "      <td>11.510583</td>\n",
       "      <td>0.808542</td>\n",
       "    </tr>\n",
       "    <tr>\n",
       "      <td>11.673535</td>\n",
       "      <td>0.802567</td>\n",
       "    </tr>\n",
       "    <tr>\n",
       "      <td>12.239422</td>\n",
       "      <td>0.812030</td>\n",
       "    </tr>\n",
       "    <tr>\n",
       "      <td>12.400819</td>\n",
       "      <td>0.842569</td>\n",
       "    </tr>\n",
       "    <tr>\n",
       "      <td>13.992272</td>\n",
       "      <td>0.787285</td>\n",
       "    </tr>\n",
       "    <tr>\n",
       "      <td>14.150054</td>\n",
       "      <td>0.800296</td>\n",
       "    </tr>\n",
       "    <tr>\n",
       "      <td>14.710432</td>\n",
       "      <td>0.782202</td>\n",
       "    </tr>\n",
       "  </tbody>\n",
       "</table>\n",
       "</div>"
      ],
      "text/plain": [
       "           humidity\n",
       "windSpeed          \n",
       "8.521237   0.795739\n",
       "8.621573   0.828118\n",
       "9.930833   0.830736\n",
       "11.056486  0.822056\n",
       "11.485296  0.843481\n",
       "11.510583  0.808542\n",
       "11.673535  0.802567\n",
       "12.239422  0.812030\n",
       "12.400819  0.842569\n",
       "13.992272  0.787285\n",
       "14.150054  0.800296\n",
       "14.710432  0.782202"
      ]
     },
     "execution_count": 42,
     "metadata": {},
     "output_type": "execute_result"
    }
   ],
   "source": [
    "avg_month_wind = avg_monthly[['windSpeed','humidity']].groupby(\"windSpeed\") \n",
    "wind_data = avg_month_wind.mean()\n",
    "wind_data"
   ]
  },
  {
   "cell_type": "code",
   "execution_count": 43,
   "metadata": {},
   "outputs": [
    {
     "data": {
      "text/plain": [
       "<Figure size 432x288 with 0 Axes>"
      ]
     },
     "metadata": {},
     "output_type": "display_data"
    },
    {
     "data": {
      "image/png": "[encoded data removed]",
      "text/plain": [
       "<Figure size 432x288 with 1 Axes>"
      ]
     },
     "metadata": {
      "needs_background": "light"
     },
     "output_type": "display_data"
    }
   ],
   "source": [
    "plt.figure()\n",
    "avg_month_wind.mean().plot()\n",
    "plt.title(\"Avg humidity as windSpeed increases in 2019\\n\")\n",
    "plt.ylabel(\"humidity\")\n",
    "plt.xlabel(\"windSpeed\")\n",
    "plt.show()"
   ]
  },
  {
   "cell_type": "code",
   "execution_count": 44,
   "metadata": {},
   "outputs": [
    {
     "data": {
      "text/html": [
       "<div>\n",
       "<style scoped>\n",
       "    .dataframe tbody tr th:only-of-type {\n",
       "        vertical-align: middle;\n",
       "    }\n",
       "\n",
       "    .dataframe tbody tr th {\n",
       "        vertical-align: top;\n",
       "    }\n",
       "\n",
       "    .dataframe thead th {\n",
       "        text-align: right;\n",
       "    }\n",
       "</style>\n",
       "<table border=\"1\" class=\"dataframe\">\n",
       "  <thead>\n",
       "    <tr style=\"text-align: right;\">\n",
       "      <th></th>\n",
       "      <th>windSpeed</th>\n",
       "    </tr>\n",
       "    <tr>\n",
       "      <th>humidity</th>\n",
       "      <th></th>\n",
       "    </tr>\n",
       "  </thead>\n",
       "  <tbody>\n",
       "    <tr>\n",
       "      <td>0.782202</td>\n",
       "      <td>14.710432</td>\n",
       "    </tr>\n",
       "    <tr>\n",
       "      <td>0.787285</td>\n",
       "      <td>13.992272</td>\n",
       "    </tr>\n",
       "    <tr>\n",
       "      <td>0.795739</td>\n",
       "      <td>8.521237</td>\n",
       "    </tr>\n",
       "    <tr>\n",
       "      <td>0.800296</td>\n",
       "      <td>14.150054</td>\n",
       "    </tr>\n",
       "    <tr>\n",
       "      <td>0.802567</td>\n",
       "      <td>11.673535</td>\n",
       "    </tr>\n",
       "    <tr>\n",
       "      <td>0.808542</td>\n",
       "      <td>11.510583</td>\n",
       "    </tr>\n",
       "    <tr>\n",
       "      <td>0.812030</td>\n",
       "      <td>12.239422</td>\n",
       "    </tr>\n",
       "    <tr>\n",
       "      <td>0.822056</td>\n",
       "      <td>11.056486</td>\n",
       "    </tr>\n",
       "    <tr>\n",
       "      <td>0.828118</td>\n",
       "      <td>8.621573</td>\n",
       "    </tr>\n",
       "    <tr>\n",
       "      <td>0.830736</td>\n",
       "      <td>9.930833</td>\n",
       "    </tr>\n",
       "    <tr>\n",
       "      <td>0.842569</td>\n",
       "      <td>12.400819</td>\n",
       "    </tr>\n",
       "    <tr>\n",
       "      <td>0.843481</td>\n",
       "      <td>11.485296</td>\n",
       "    </tr>\n",
       "  </tbody>\n",
       "</table>\n",
       "</div>"
      ],
      "text/plain": [
       "          windSpeed\n",
       "humidity           \n",
       "0.782202  14.710432\n",
       "0.787285  13.992272\n",
       "0.795739   8.521237\n",
       "0.800296  14.150054\n",
       "0.802567  11.673535\n",
       "0.808542  11.510583\n",
       "0.812030  12.239422\n",
       "0.822056  11.056486\n",
       "0.828118   8.621573\n",
       "0.830736   9.930833\n",
       "0.842569  12.400819\n",
       "0.843481  11.485296"
      ]
     },
     "execution_count": 44,
     "metadata": {},
     "output_type": "execute_result"
    }
   ],
   "source": [
    "avg_month_humidity = avg_monthly[['windSpeed','humidity']].groupby(\"humidity\") \n",
    "humidity_data = avg_month_humidity.mean()\n",
    "humidity_data"
   ]
  },
  {
   "cell_type": "code",
   "execution_count": 45,
   "metadata": {},
   "outputs": [
    {
     "data": {
      "text/plain": [
       "<Figure size 432x288 with 0 Axes>"
      ]
     },
     "metadata": {},
     "output_type": "display_data"
    },
    {
     "data": {
      "image/png": "[encoded data removed]",
      "text/plain": [
       "<Figure size 432x288 with 1 Axes>"
      ]
     },
     "metadata": {
      "needs_background": "light"
     },
     "output_type": "display_data"
    }
   ],
   "source": [
    "plt.figure()\n",
    "avg_month_humidity.mean().plot()\n",
    "plt.title(\"Avg windSpeed as humidity increases in 2019\\n\")\n",
    "plt.ylabel(\"windSpeed\")\n",
    "plt.xlabel(\"humidity\")\n",
    "plt.show()"
   ]
  },
  {
   "cell_type": "markdown",
   "metadata": {},
   "source": [
    "### Tentative Conclusion"
   ]
  },
  {
   "cell_type": "markdown",
   "metadata": {},
   "source": [
    "Based on the data currently, May has the lowest wind speed and humidity in 2019 but when the wind speed increases the humidity looks not change regular and when the humidity increase, the wind speed looks not change regularly. That means there does not seem to be a strong relationship between the humidity and wind speed in Dublin. It may get into further studies."
   ]
  },
  {
   "cell_type": "code",
   "execution_count": null,
   "metadata": {},
   "outputs": [],
   "source": []
  }
 ],
 "metadata": {
  "kernelspec": {
   "display_name": "Python 3",
   "language": "python",
   "name": "python3"
  },
  "language_info": {
   "codemirror_mode": {
    "name": "ipython",
    "version": 3
   },
   "file_extension": ".py",
   "mimetype": "text/x-python",
   "name": "python",
   "nbconvert_exporter": "python",
   "pygments_lexer": "ipython3",
   "version": "3.7.4"
  }
 },
 "nbformat": 4,
 "nbformat_minor": 2
}
